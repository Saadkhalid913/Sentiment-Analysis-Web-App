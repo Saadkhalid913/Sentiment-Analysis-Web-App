{
  "nbformat": 4,
  "nbformat_minor": 0,
  "metadata": {
    "colab": {
      "name": "Sentiment Model (Tensorflow only).ipynb",
      "provenance": [],
      "collapsed_sections": [],
      "authorship_tag": "ABX9TyNo7kD+/W//ztucp1mJ9w6u",
      "include_colab_link": true
    },
    "kernelspec": {
      "name": "python3",
      "display_name": "Python 3"
    },
    "language_info": {
      "name": "python"
    }
  },
  "cells": [
    {
      "cell_type": "markdown",
      "metadata": {
        "id": "view-in-github",
        "colab_type": "text"
      },
      "source": [
        "<a href=\"https://colab.research.google.com/github/Saadkhalid913/Sentiment-Analysis-Web-App/blob/master/Sentiment_Model_(Tensorflow_only).ipynb\" target=\"_parent\"><img src=\"https://colab.research.google.com/assets/colab-badge.svg\" alt=\"Open In Colab\"/></a>"
      ]
    },
    {
      "cell_type": "code",
      "metadata": {
        "colab": {
          "base_uri": "https://localhost:8080/"
        },
        "id": "DKxm39eiA6Uj",
        "outputId": "16f36a4b-224e-497b-98d9-9c851b83bccc"
      },
      "source": [
        "import numpy as np\n",
        "import nltk \n",
        "import tensorflow as tf \n",
        "import pandas as pd \n",
        "nltk.download(\"stopwords\")\n",
        "from nltk.corpus import stopwords\n",
        "from nltk.stem.porter import PorterStemmer\n",
        "from sklearn.preprocessing import OneHotEncoder\n",
        "import keras \n",
        "from keras.layers.core import Dense"
      ],
      "execution_count": null,
      "outputs": [
        {
          "output_type": "stream",
          "name": "stdout",
          "text": [
            "[nltk_data] Downloading package stopwords to /root/nltk_data...\n",
            "[nltk_data]   Package stopwords is already up-to-date!\n",
            "[nltk_data] Downloading package stopwords to /root/nltk_data...\n",
            "[nltk_data]   Package stopwords is already up-to-date!\n"
          ]
        }
      ]
    },
    {
      "cell_type": "code",
      "metadata": {
        "id": "QcD0i5z5JxKW"
      },
      "source": [
        ""
      ],
      "execution_count": null,
      "outputs": []
    },
    {
      "cell_type": "code",
      "metadata": {
        "id": "W3Nh62HyBPe_"
      },
      "source": [
        "# segmenting and parsing data\n",
        "\n",
        "data = []\n",
        "with open(\"./train.txt\", \"r\") as f:\n",
        "  datapoints = f.read().split(\"\\n\")\n",
        "  for i, datapoint in enumerate(datapoints[ : -1]):\n",
        "    sentence, emotion = datapoint.split(\";\")\n",
        "    data.append([sentence, emotion])\n",
        "\n",
        "data = np.array(data)\n",
        "\n",
        "\n"
      ],
      "execution_count": null,
      "outputs": []
    },
    {
      "cell_type": "code",
      "metadata": {
        "id": "KWrPswiFCV-J"
      },
      "source": [
        "import re\n",
        "\n",
        "\n",
        "# defining utility functions \n",
        "ps = PorterStemmer()\n",
        "def replace_not_alphabetical_chars(s: str):\n",
        "  return re.sub(\"[^a-zA-Z]\", \" \", s)\n",
        "def SplitSentence(s: str):\n",
        "  s = s.lower()\n",
        "  s = s.split()\n",
        "  return s \n",
        "def GetStopwords():\n",
        "  words = stopwords.words(\"english\")\n",
        "  words.remove(\"not\")\n",
        "  return words\n",
        "def GetStem(word: str) -> str:\n",
        "  global ps \n",
        "  return ps.stem(word)\n"
      ],
      "execution_count": null,
      "outputs": []
    },
    {
      "cell_type": "code",
      "metadata": {
        "id": "D-UrOzzEO6UX"
      },
      "source": [
        "EnglishStopwords = GetStopwords()"
      ],
      "execution_count": null,
      "outputs": []
    },
    {
      "cell_type": "code",
      "metadata": {
        "id": "CgJCR0e-OXDd"
      },
      "source": [
        "# pre-processing data \n",
        "\n",
        "sentences = []\n",
        "for datapoint in data[ : ]:\n",
        "  sentence, emotion = datapoint\n",
        "  sentence = replace_not_alphabetical_chars(sentence)\n",
        "  sentence = SplitSentence(sentence)\n",
        "  # sentence = [GetStem(word) for word in sentence if word not in set(EnglishStopwords)]\n",
        "  sentence = \" \".join(sentence)\n",
        "  sentences.append(sentence)\n"
      ],
      "execution_count": null,
      "outputs": []
    },
    {
      "cell_type": "code",
      "metadata": {
        "id": "ogP-wlHenKAH"
      },
      "source": [
        "text_encoder = tf.keras.preprocessing.text.Tokenizer(num_words=1500, lower=True)\n",
        "text_encoder.fit_on_texts(sentences)\n",
        "# encoded_sentences = tf.keras.preprocessing.sequence.pad_sequences(text_encoder.texts_to_sequences(sentences), maxlen=300)\n",
        "one_hot_results = text_encoder.texts_to_matrix(sentences, mode=\"binary\")"
      ],
      "execution_count": null,
      "outputs": []
    },
    {
      "cell_type": "code",
      "metadata": {
        "id": "s2h2IzUsSGVG"
      },
      "source": [
        "# Encoding Y (getting classes)\n",
        "y = data[ :  ,[-1]]\n",
        "encoder = OneHotEncoder()\n",
        "y = encoder.fit_transform(y).toarray()\n",
        "x = one_hot_results"
      ],
      "execution_count": null,
      "outputs": []
    },
    {
      "cell_type": "code",
      "metadata": {
        "id": "YAxxszVWSDmi"
      },
      "source": [
        "def CreateModel():\n",
        "  model = tf.keras.models.Sequential()\n",
        "  model.add(Dense(units = 1500, activation=\"relu\"))\n",
        "  model.add(Dense(units = 1024, activation=\"relu\"))\n",
        "  model.add(Dense(units = 512, activation=\"relu\"))\n",
        "  model.add(keras.layers.Dropout(rate = 0.2))\n",
        "  model.add(Dense(units = 128, activation=\"relu\"))\n",
        "  model.add(Dense(units = 32, activation=\"relu\"))\n",
        "  model.add(Dense(units = 6, activation=\"sigmoid\"))\n",
        "  model.compile(optimizer = 'adam', loss = 'categorical_crossentropy', metrics = ['accuracy'])\n",
        "  return model"
      ],
      "execution_count": null,
      "outputs": []
    },
    {
      "cell_type": "code",
      "metadata": {
        "id": "Em-NOmI_stdc"
      },
      "source": [
        ""
      ],
      "execution_count": null,
      "outputs": []
    },
    {
      "cell_type": "code",
      "metadata": {
        "id": "bEnX4-x7QxTl"
      },
      "source": [
        "model = CreateModel()"
      ],
      "execution_count": null,
      "outputs": []
    },
    {
      "cell_type": "code",
      "metadata": {
        "colab": {
          "base_uri": "https://localhost:8080/"
        },
        "id": "GCanLPwwtC_9",
        "outputId": "9e442bb2-21ca-4e23-d944-6a668d72fc7e"
      },
      "source": [
        "model.fit(x,y, epochs=10, batch_size=64)"
      ],
      "execution_count": null,
      "outputs": [
        {
          "output_type": "stream",
          "name": "stdout",
          "text": [
            "Epoch 1/10\n",
            "250/250 [==============================] - 14s 54ms/step - loss: 0.8988 - accuracy: 0.6595\n",
            "Epoch 2/10\n",
            "250/250 [==============================] - 13s 54ms/step - loss: 0.2804 - accuracy: 0.9046\n",
            "Epoch 3/10\n",
            "250/250 [==============================] - 13s 54ms/step - loss: 0.1220 - accuracy: 0.9583\n",
            "Epoch 4/10\n",
            "250/250 [==============================] - 13s 54ms/step - loss: 0.0655 - accuracy: 0.9778\n",
            "Epoch 5/10\n",
            "250/250 [==============================] - 14s 55ms/step - loss: 0.0401 - accuracy: 0.9873\n",
            "Epoch 6/10\n",
            "250/250 [==============================] - 14s 55ms/step - loss: 0.0366 - accuracy: 0.9881\n",
            "Epoch 7/10\n",
            "250/250 [==============================] - 14s 54ms/step - loss: 0.0325 - accuracy: 0.9891\n",
            "Epoch 8/10\n",
            "250/250 [==============================] - 14s 54ms/step - loss: 0.0320 - accuracy: 0.9885\n",
            "Epoch 9/10\n",
            "250/250 [==============================] - 13s 54ms/step - loss: 0.0359 - accuracy: 0.9883\n",
            "Epoch 10/10\n",
            "250/250 [==============================] - 13s 54ms/step - loss: 0.0273 - accuracy: 0.9908\n"
          ]
        },
        {
          "output_type": "execute_result",
          "data": {
            "text/plain": [
              "<keras.callbacks.History at 0x7efe39df4fd0>"
            ]
          },
          "metadata": {},
          "execution_count": 17
        }
      ]
    },
    {
      "cell_type": "code",
      "metadata": {
        "id": "nsvyOEpbHscR"
      },
      "source": [
        "model.save_weights(\"TF_ONLY_MODEL\")\n"
      ],
      "execution_count": null,
      "outputs": []
    },
    {
      "cell_type": "code",
      "metadata": {
        "id": "C-0sCGDjuWqr"
      },
      "source": [
        "def MakePred(s):\n",
        "  string = [s]\n",
        "  string = text_encoder.texts_to_matrix(string, mode=\"binary\")\n",
        "  pred = model.predict(string)\n",
        "  index = np.argmax(pred)\n",
        "  print(string)\n",
        "  print(pred)\n",
        "\n",
        "  print(encoder.inverse_transform(pred))\n",
        "\n",
        "\n",
        "# MakePred(\"i can go from feeling so hopeless to so damned hopeful just from being around someone who cares and is awake\")\n",
        "# MakePred(\"ive been feeling a little burdened lately wasnt sure why that was\")\n",
        "# MakePred(\"i feel romantic too\")\n",
        "# MakePred(input())\n",
        "\n"
      ],
      "execution_count": null,
      "outputs": []
    },
    {
      "cell_type": "code",
      "metadata": {
        "colab": {
          "base_uri": "https://localhost:8080/"
        },
        "id": "DybP8Nq4U5S_",
        "outputId": "ba9b00f7-f7c8-412b-e654-321d4a23d1c3"
      },
      "source": [
        "# print(encoder.inverse_transform(np.array([[1,0,0,0,0,0]])))\n",
        "# print(encoder.inverse_transform(np.array([[0,1,0,0,0,0]])))\n",
        "# print(encoder.inverse_transform(np.array([[0,0,1,0,0,0]])))\n",
        "# print(encoder.inverse_transform(np.array([[0,0,0,1,0,0]])))\n",
        "# print(encoder.inverse_transform(np.array([[0,0,0,0,1,0]])))\n",
        "# print(encoder.inverse_transform(np.array([[0,0,0,0,0,1]])))\n",
        "\n",
        "emotions = np.array([[['anger']],\n",
        "                      [['fear']],\n",
        "                      [['joy']],\n",
        "                      [['love']],\n",
        "                      [['sadness']],\n",
        "                      [['surprise']]])\n",
        "emotions.reshape(-1)"
      ],
      "execution_count": null,
      "outputs": [
        {
          "output_type": "execute_result",
          "data": {
            "text/plain": [
              "array(['anger', 'fear', 'joy', 'love', 'sadness', 'surprise'], dtype='<U8')"
            ]
          },
          "metadata": {},
          "execution_count": 34
        }
      ]
    },
    {
      "cell_type": "markdown",
      "metadata": {
        "id": "WnfWcDjWU4mi"
      },
      "source": [
        ""
      ]
    }
  ]
}